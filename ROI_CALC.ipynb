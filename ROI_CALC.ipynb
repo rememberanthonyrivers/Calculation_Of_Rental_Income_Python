{
 "cells": [
  {
   "cell_type": "code",
   "execution_count": 3,
   "metadata": {},
   "outputs": [
    {
     "ename": "SyntaxError",
     "evalue": "cannot assign to operator (<ipython-input-3-c465825e1384>, line 13)",
     "output_type": "error",
     "traceback": [
      "\u001b[0;36m  File \u001b[0;32m\"<ipython-input-3-c465825e1384>\"\u001b[0;36m, line \u001b[0;32m13\u001b[0m\n\u001b[0;31m    ren_int + s + other = self.overall_income\u001b[0m\n\u001b[0m    ^\u001b[0m\n\u001b[0;31mSyntaxError\u001b[0m\u001b[0;31m:\u001b[0m cannot assign to operator\n"
     ]
    }
   ],
   "source": [
    "class calc_of_rental_prop():\n",
    "    \n",
    "    def __init__(self):\n",
    "        self.overall_income = 0\n",
    "        self.overall_costs = 0\n",
    "        self.overall_cash_flow = 0\n",
    "        \n",
    "    def my_inc(self):\n",
    "        print(\"Lets begin! Lets calculate your rental income.\")\n",
    "        ren_int = int(input(\"Enter your total rental income. Example: # of Units multiplied by Rent - \"))\n",
    "        s = int(input(\"Now enter your total income for storage space - \"))\n",
    "        other = int(input(\"Now enter the cost for other/miscellaneous expenses - \"))\n",
    "        ren_int + s + other = self.overall_income\n",
    "        print(f\"Your monthly Rental Income is - ${self.overall_income}\")\n",
    "        return self.overall_income\n",
    "    \n",
    "    def charges(self):\n",
    "        print(\"Lets calculate your overall charges.\")\n",
    "        e1 = int(input(\"Enter your tax expenses, The dollar amount - \"))\n",
    "        e2 = int(input(\"Enter your insurance expenses, The dollar amount - \"))\n",
    "        e3 = int(input(\"Enter your Home Owners Associations expenses, The dollar amount -  \"))\n",
    "        e4 = int(input(\"Now enter your vacancy expenses, The dollar amount -   \"))\n",
    "        e5 = int(input(\"If any repairs were done on any of the units, what were the expenses, The dollar amount -    \"))\n",
    "        e6 = int(input(\"If any capital expenditures apply enter the dollar amount, The dollar amount - \"))\n",
    "        e7 = input(\"Are utilities included? yes/no \")\n",
    "        if e7.lower().strip() == 'yes':\n",
    "            electric = int(input(\"Please enter the cost of electricity: \"))\n",
    "            water = int(input(\"Please enter the cost of water per month: \"))\n",
    "            gas = int(input(\"Please enter the cost of gas: \")) \n",
    "            util = electric + water + electric\n",
    "        elif expenses7.lower().strip() == \"no\":\n",
    "            util = 0 \n",
    "        self.overall_costs = e1 + e2 + e3 + (e4/100 * self.total_income) + e5 + e6 + util\n",
    "        print(f\"Total - {self.overall_costs}\")\n",
    "        return self.overall_costs\n",
    "\n",
    "    def cf(self):\n",
    "        print(\"buffering...\")\n",
    "        check = input(\"Your credentials are about to be displayed. Continue, yes/no\").lower().strip()\n",
    "        if check == 'yes':\n",
    "            tcost = self.overall_income - self.overall_costs\n",
    "            print(f\"Overall Cash Flow - ${tcost}\")  \n",
    "            return tcost\n",
    "        else:\n",
    "            print(\"Empty display box.\")\n",
    "            tcost = self.overall_income - self.overall_costs\n",
    "            return tcost\n",
    "    \n",
    "    def r_o_i(self):\n",
    "        print(\"calculating Return on Investment...\")\n",
    "        x_downpay = int(input(\"...Downpayment price being calculated... - \"))\n",
    "        y_closing_price = int(input(\"...Closing Cost being calculated... - \"))\n",
    "        z_repair = int(input(\"...Repair Cost being calculated... - \"))\n",
    "        self.tcost = x_downpay + y_closing_price + z_repair\n",
    "        self.rocost = tcost / self.tcost * 100\n",
    "        print(f\"Your return = {self.rocost}%\")\n",
    "        return self.rocost \n",
    "\n",
    "    \n",
    "c = calc_of_rental_prop()\n",
    "while True:\n",
    "    print(\"...Return On Investment Calculator initializing...\")\n",
    "    start = input(\"Lets begin - Choose a selection: Calculate Your Retrun On Investment/Check Your Return On Investment/Exit \").lower().strip()\n",
    "    if start == \"calculate your retrun on investment\":\n",
    "        print(\"Lets begin.\")\n",
    "        c.my_inc()\n",
    "        c.charges()\n",
    "        c.cf()\n",
    "        c.r_o_i() \n",
    "        \n",
    "    elif start == \"exit\":\n",
    "        print(\"Thanks for stopping by, come back soon!\")\n",
    "        break\n",
    "    elif start == \"check your return on investment\":\n",
    "        if c.r_o_i:\n",
    "            print(f\"Your cash on cash return on investment is {c.r_o_i}%\")\n",
    "        else:\n",
    "            print(\"Not a valid entry.\")\n",
    "            \n",
    "            \n",
    "            \n",
    "    "
   ]
  },
  {
   "cell_type": "code",
   "execution_count": null,
   "metadata": {},
   "outputs": [],
   "source": [
    "33"
   ]
  }
 ],
 "metadata": {
  "kernelspec": {
   "display_name": "Python 3",
   "language": "python",
   "name": "python3"
  },
  "language_info": {
   "codemirror_mode": {
    "name": "ipython",
    "version": 3
   },
   "file_extension": ".py",
   "mimetype": "text/x-python",
   "name": "python",
   "nbconvert_exporter": "python",
   "pygments_lexer": "ipython3",
   "version": "3.8.5"
  }
 },
 "nbformat": 4,
 "nbformat_minor": 4
}
